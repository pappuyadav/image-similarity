{
  "nbformat": 4,
  "nbformat_minor": 0,
  "metadata": {
    "colab": {
      "name": "image_comaprision.ipynb",
      "provenance": [],
      "collapsed_sections": [],
      "authorship_tag": "ABX9TyPvSYM2NvGOAG8P7l6spmwG",
      "include_colab_link": true
    },
    "kernelspec": {
      "name": "python3",
      "display_name": "Python 3"
    }
  },
  "cells": [
    {
      "cell_type": "markdown",
      "metadata": {
        "id": "view-in-github",
        "colab_type": "text"
      },
      "source": [
        "<a href=\"https://colab.research.google.com/github/pappuyadav/image-similarity/blob/main/image_comaprision.ipynb\" target=\"_parent\"><img src=\"https://colab.research.google.com/assets/colab-badge.svg\" alt=\"Open In Colab\"/></a>"
      ]
    },
    {
      "cell_type": "code",
      "metadata": {
        "id": "ml1AjoTUY2FI"
      },
      "source": [
        "!pip install tensorflow==1.14"
      ],
      "execution_count": null,
      "outputs": []
    },
    {
      "cell_type": "code",
      "metadata": {
        "id": "LnlxA6m0g-2G"
      },
      "source": [
        "# Compare similarity between two images by using VGG16 as a feature extractor and cosine similarity as a distance metric\n",
        "# Author: Pappu Kumar Yadav\n",
        "from tensorflow.keras.applications.vgg16 import VGG16, preprocess_input\n",
        "from tensorflow.keras.preprocessing.image import load_img, img_to_array\n",
        "from tensorflow.keras.preprocessing import sequence\n",
        "from tensorflow.keras.preprocessing import image\n",
        "from tensorflow.keras.models import Model\n",
        "from pickle import dump\n",
        "import pickle\n",
        "import matplotlib.pyplot as plt\n",
        "from scipy import stats\n",
        "from scipy import spatial\n",
        "from scipy.stats import f_oneway\n",
        "\n",
        "# load an image from file\n",
        "image1 = load_img('/content/reference_image.jpg', target_size=(224, 224))\n",
        "image2 = load_img('/content/compare_image.jpg', target_size=(224, 224))\n",
        "\n",
        "# convert the image pixels to a numpy array\n",
        "image1 = img_to_array(image1)\n",
        "image2 = img_to_array(image2)\n",
        "# reshape data for the VGG16 model\n",
        "image1 = image1.reshape((1, image1.shape[0], image1.shape[1], image1.shape[2]))\n",
        "image2 = image2.reshape((1, image2.shape[0], image2.shape[1], image2.shape[2]))\n",
        "# prepare the image for the VGG16 model\n",
        "image1 = preprocess_input(image1)\n",
        "image2 = preprocess_input(image2)\n",
        "# load model\n",
        "model = VGG16()\n",
        "# remove the output layer so as to use VGG16 as feature extractor and not as a classifier\n",
        "model = Model(inputs=model.inputs, outputs=model.layers[-2].output)\n",
        "# get extracted features\n",
        "features1 = model.predict(image1)\n",
        "features2 = model.predict(image2)\n",
        "print(features1.shape)\n",
        "print(features2.shape)\n",
        "\n",
        "\n",
        "def image_similarity(vector1, vector2):\n",
        "  result = 1 - spatial.distance.cosine(vector1, vector2)\n",
        "  return result\n",
        "\n",
        "\n",
        "fig, plot_num = plt.subplots(3)\n",
        "plot_num[0].plot(features1[0])\n",
        "plot_num[1].plot(features2[0])\n",
        "plot_num[2].scatter(features1[0],features2[0])\n",
        "\n",
        "\n",
        "aa=image_similarity(features1,features2)\n",
        "print(aa)\n",
        "bb=stats.pearsonr(features1[0],features2[0])\n",
        "print(bb)\n",
        "\n",
        "\n",
        "# save to file\n",
        "dump(features1, open('features1.pkl', 'wb'))\n",
        "dump(features2, open('features2.pkl', 'wb'))\n",
        "\n",
        "with open('/content/features1.pkl', 'rb') as f:\n",
        "  data1 = pickle.load(f)\n",
        "with open('/content/features2.pkl', 'rb') as f:\n",
        "  data2 = pickle.load(f)\n",
        "\n",
        "with open(\"features1.txt\", \"wb\") as abc:\n",
        "  abc.write(data1)\n",
        "with open(\"features2.txt\", \"wb\") as abc:\n",
        "  abc.write(data2)"
      ],
      "execution_count": null,
      "outputs": []
    }
  ]
}